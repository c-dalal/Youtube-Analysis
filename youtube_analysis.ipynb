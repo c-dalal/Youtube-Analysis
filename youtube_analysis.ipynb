{
 "cells": [
  {
   "cell_type": "code",
   "execution_count": null,
   "id": "3dee92d2",
   "metadata": {},
   "outputs": [],
   "source": [
    "import pandas as pd\n",
    "import numpy as np\n",
    "import seaborn as sns\n",
    "import matplotlib.pyplot as plt"
   ]
  },
  {
   "cell_type": "code",
   "execution_count": null,
   "id": "f505421b",
   "metadata": {},
   "outputs": [],
   "source": [
    "comments = pd.read_csv(r'C:\\Users\\cdalal\\Youtube\\USComments.csv',error_bad_lines = False)"
   ]
  },
  {
   "cell_type": "code",
   "execution_count": null,
   "id": "f4a37498",
   "metadata": {},
   "outputs": [],
   "source": [
    "comments.head()"
   ]
  },
  {
   "cell_type": "code",
   "execution_count": null,
   "id": "337d132c",
   "metadata": {},
   "outputs": [],
   "source": [
    "comments.isnull().sum()"
   ]
  },
  {
   "cell_type": "code",
   "execution_count": null,
   "id": "2b61a3c9",
   "metadata": {},
   "outputs": [],
   "source": [
    "comments.dropna(inplace=True)"
   ]
  },
  {
   "cell_type": "markdown",
   "id": "4f479366",
   "metadata": {},
   "source": [
    "## how to perform Sentiment Analysis\n",
    "    \n",
    "    In short , Sentiment analysis is all about analyszing sentiments of Users"
   ]
  },
  {
   "cell_type": "code",
   "execution_count": null,
   "id": "6f48e252",
   "metadata": {},
   "outputs": [],
   "source": [
    "!pip install textblob"
   ]
  },
  {
   "cell_type": "code",
   "execution_count": null,
   "id": "9d1c8444",
   "metadata": {},
   "outputs": [],
   "source": [
    "from textblob import TextBlob"
   ]
  },
  {
   "cell_type": "code",
   "execution_count": null,
   "id": "c7346e96",
   "metadata": {},
   "outputs": [],
   "source": [
    "TextBlob('Logan Paul it s yo big day ‼️‼️‼️\t').sentiment"
   ]
  },
  {
   "cell_type": "code",
   "execution_count": null,
   "id": "6a0222e6",
   "metadata": {},
   "outputs": [],
   "source": [
    "polarity = []\n",
    "for comment in comments['comment_text']:\n",
    "    try:\n",
    "        polarity.append(TextBlob(comment).sentiment.polarity)\n",
    "    except:\n",
    "        polarity.append(0)\n",
    "    "
   ]
  },
  {
   "cell_type": "code",
   "execution_count": null,
   "id": "ae45f64e",
   "metadata": {},
   "outputs": [],
   "source": [
    "comments['polarity'] = polarity"
   ]
  },
  {
   "cell_type": "code",
   "execution_count": null,
   "id": "602d9a71",
   "metadata": {},
   "outputs": [],
   "source": [
    "comments.head()"
   ]
  },
  {
   "cell_type": "markdown",
   "id": "cb1099bc",
   "metadata": {},
   "source": [
    "### Lets perform EDA for the Positve sentences"
   ]
  },
  {
   "cell_type": "code",
   "execution_count": null,
   "id": "0a6bd49f",
   "metadata": {},
   "outputs": [],
   "source": [
    "comments_positive = comments[comments['polarity']==1]"
   ]
  },
  {
   "cell_type": "code",
   "execution_count": null,
   "id": "70ffb1cd",
   "metadata": {},
   "outputs": [],
   "source": [
    "comments_negative = comments[comments['polarity']==-1]"
   ]
  },
  {
   "cell_type": "code",
   "execution_count": null,
   "id": "1cdfae8f",
   "metadata": {},
   "outputs": [],
   "source": [
    "!pip install wordcloud"
   ]
  },
  {
   "cell_type": "code",
   "execution_count": null,
   "id": "34532c3c",
   "metadata": {},
   "outputs": [],
   "source": [
    "from wordcloud import WordCloud,STOPWORDS"
   ]
  },
  {
   "cell_type": "code",
   "execution_count": null,
   "id": "487f3c6d",
   "metadata": {},
   "outputs": [],
   "source": [
    "comments_negative['comment_text']"
   ]
  },
  {
   "cell_type": "code",
   "execution_count": null,
   "id": "1e1f9bc8",
   "metadata": {},
   "outputs": [],
   "source": [
    "total_comments = ' '.join(comments_negative['comment_text'])"
   ]
  },
  {
   "cell_type": "code",
   "execution_count": null,
   "id": "6d6bec74",
   "metadata": {},
   "outputs": [],
   "source": [
    "total_comments[0:100]"
   ]
  },
  {
   "cell_type": "code",
   "execution_count": null,
   "id": "6f7269f3",
   "metadata": {},
   "outputs": [],
   "source": [
    "wordcloud = WordCloud().generate(total_comments)\n",
    "plt.figure(figsize=(15,5))\n",
    "plt.imshow(wordcloud)\n",
    "plt.axis('off')"
   ]
  },
  {
   "cell_type": "markdown",
   "id": "92798499",
   "metadata": {},
   "source": [
    "### Conclusion-->> Users are emphasizing more on Terrible , worst ,horrible ,boring , disgusting etc.."
   ]
  },
  {
   "cell_type": "markdown",
   "id": "e7dc572f",
   "metadata": {},
   "source": [
    "### Lets perform EDA for the Negative sentences"
   ]
  },
  {
   "cell_type": "code",
   "execution_count": null,
   "id": "e909ee16",
   "metadata": {},
   "outputs": [],
   "source": [
    "total_comments2 = ' '.join(comments_positive['comment_text'])"
   ]
  },
  {
   "cell_type": "code",
   "execution_count": null,
   "id": "86099e22",
   "metadata": {},
   "outputs": [],
   "source": [
    "wordcloud = WordCloud(stopwords=set(STOPWORDS)).generate(total_comments2)\n",
    "plt.figure(figsize=(15,5))\n",
    "plt.imshow(wordcloud)\n",
    "plt.axis('off')"
   ]
  },
  {
   "cell_type": "markdown",
   "id": "19ea1554",
   "metadata": {},
   "source": [
    "## Perform Emoji's Analysis"
   ]
  },
  {
   "cell_type": "code",
   "execution_count": null,
   "id": "952faec5",
   "metadata": {},
   "outputs": [],
   "source": [
    "!pip install emoji"
   ]
  },
  {
   "cell_type": "code",
   "execution_count": null,
   "id": "3df6b535",
   "metadata": {},
   "outputs": [],
   "source": [
    "import emoji"
   ]
  },
  {
   "cell_type": "code",
   "execution_count": null,
   "id": "eb7a63a5",
   "metadata": {},
   "outputs": [],
   "source": [
    "emoji_list=[]\n",
    "for comment in comments['comment_text']:\n",
    "    for char in comment:\n",
    "        if char in emoji.EMOJI_DATA:\n",
    "            emoji_list.append(char)"
   ]
  },
  {
   "cell_type": "code",
   "execution_count": null,
   "id": "b362aadd",
   "metadata": {},
   "outputs": [],
   "source": [
    "len(emoji_list)"
   ]
  },
  {
   "cell_type": "code",
   "execution_count": null,
   "id": "2241f0df",
   "metadata": {},
   "outputs": [],
   "source": [
    "emoji_list[0:10]"
   ]
  },
  {
   "cell_type": "code",
   "execution_count": null,
   "id": "e4fdee2e",
   "metadata": {},
   "outputs": [],
   "source": [
    "from collections import Counter"
   ]
  },
  {
   "cell_type": "code",
   "execution_count": null,
   "id": "884cd205",
   "metadata": {},
   "outputs": [],
   "source": [
    "Counter(emoji_list).most_common(10)"
   ]
  },
  {
   "cell_type": "code",
   "execution_count": null,
   "id": "c960eaea",
   "metadata": {},
   "outputs": [],
   "source": [
    "Counter(emoji_list).most_common(10)[0][0]"
   ]
  },
  {
   "cell_type": "code",
   "execution_count": null,
   "id": "ace1cee3",
   "metadata": {},
   "outputs": [],
   "source": [
    "Counter(emoji_list).most_common(10)[1][0]"
   ]
  },
  {
   "cell_type": "code",
   "execution_count": null,
   "id": "59eca8f0",
   "metadata": {},
   "outputs": [],
   "source": [
    "emojis=[Counter(emoji_list).most_common(10)[i][0] for i in range(10)]"
   ]
  },
  {
   "cell_type": "code",
   "execution_count": null,
   "id": "f5cdf3a0",
   "metadata": {},
   "outputs": [],
   "source": [
    "emojis"
   ]
  },
  {
   "cell_type": "code",
   "execution_count": null,
   "id": "b4af5759",
   "metadata": {},
   "outputs": [],
   "source": [
    "freqs=[Counter(emoji_list).most_common(10)[i][1] for i in range(10)]"
   ]
  },
  {
   "cell_type": "code",
   "execution_count": null,
   "id": "044d112c",
   "metadata": {},
   "outputs": [],
   "source": [
    "freqs"
   ]
  },
  {
   "cell_type": "code",
   "execution_count": null,
   "id": "e671de1b",
   "metadata": {},
   "outputs": [],
   "source": [
    "!pip install plotly"
   ]
  },
  {
   "cell_type": "code",
   "execution_count": null,
   "id": "54c8a0aa",
   "metadata": {},
   "outputs": [],
   "source": [
    "import plotly.graph_objs as go"
   ]
  },
  {
   "cell_type": "code",
   "execution_count": null,
   "id": "65475eb9",
   "metadata": {},
   "outputs": [],
   "source": [
    "from plotly.offline import iplot"
   ]
  },
  {
   "cell_type": "code",
   "execution_count": null,
   "id": "f305152f",
   "metadata": {},
   "outputs": [],
   "source": [
    "trace = go.Bar(x=emojis,y=freqs)"
   ]
  },
  {
   "cell_type": "code",
   "execution_count": null,
   "id": "0de0898e",
   "metadata": {},
   "outputs": [],
   "source": [
    "iplot([trace])"
   ]
  },
  {
   "cell_type": "markdown",
   "id": "6455f588",
   "metadata": {},
   "source": [
    "#### Collect Entire data of Youtube !"
   ]
  },
  {
   "cell_type": "code",
   "execution_count": null,
   "id": "d44e4b6b",
   "metadata": {},
   "outputs": [],
   "source": [
    "import os"
   ]
  },
  {
   "cell_type": "code",
   "execution_count": null,
   "id": "82c5e556",
   "metadata": {},
   "outputs": [],
   "source": [
    "path = r'C:\\Users\\cdalal\\Youtube\\additional_data'"
   ]
  },
  {
   "cell_type": "code",
   "execution_count": null,
   "id": "ea93899c",
   "metadata": {},
   "outputs": [],
   "source": [
    "files = os.listdir(path)"
   ]
  },
  {
   "cell_type": "code",
   "execution_count": null,
   "id": "0c33f2a1",
   "metadata": {},
   "outputs": [],
   "source": [
    "files"
   ]
  },
  {
   "cell_type": "code",
   "execution_count": null,
   "id": "b5fbee08",
   "metadata": {},
   "outputs": [],
   "source": [
    "for i in range (1,len(files),2):\n",
    "    print(i)"
   ]
  },
  {
   "cell_type": "code",
   "execution_count": null,
   "id": "4acad6f0",
   "metadata": {},
   "outputs": [],
   "source": [
    "files_csv = [files[i] for i in range(0,len(files),2)]"
   ]
  },
  {
   "cell_type": "code",
   "execution_count": null,
   "id": "c61b0737",
   "metadata": {},
   "outputs": [],
   "source": [
    "full_df = pd.DataFrame()\n",
    "\n",
    "for file in files_csv:\n",
    "    current_df = pd.read_csv(path+'/'+file,encoding='iso-8859-1',error_bad_lines=False)\n",
    "    \n",
    "    current_df['country'] = file.split('.')[0][0:2]\n",
    "    full_df=pd.concat([full_df,current_df])"
   ]
  },
  {
   "cell_type": "code",
   "execution_count": null,
   "id": "cea5a0f7",
   "metadata": {},
   "outputs": [],
   "source": [
    "full_df.head(4)"
   ]
  },
  {
   "cell_type": "code",
   "execution_count": null,
   "id": "ed31f8a6",
   "metadata": {},
   "outputs": [],
   "source": [
    "full_df.shape"
   ]
  },
  {
   "cell_type": "markdown",
   "id": "badb8381",
   "metadata": {},
   "source": [
    "### Analysing the most liked category"
   ]
  },
  {
   "cell_type": "code",
   "execution_count": null,
   "id": "2c36f981",
   "metadata": {},
   "outputs": [],
   "source": [
    "full_df['category_id'].unique()"
   ]
  },
  {
   "cell_type": "code",
   "execution_count": null,
   "id": "f583b60c",
   "metadata": {},
   "outputs": [],
   "source": [
    "cat = pd.read_csv(r'C:\\Users\\cdalal\\Youtube/category_file.txt')"
   ]
  },
  {
   "cell_type": "code",
   "execution_count": null,
   "id": "eaa2fd83",
   "metadata": {},
   "outputs": [],
   "source": [
    "cat.reset_index(inplace=True)"
   ]
  },
  {
   "cell_type": "code",
   "execution_count": null,
   "id": "b2aa6f25",
   "metadata": {},
   "outputs": [],
   "source": [
    "cat.columns = ['Category_id','Category_name']"
   ]
  },
  {
   "cell_type": "code",
   "execution_count": null,
   "id": "6d043054",
   "metadata": {},
   "outputs": [],
   "source": [
    "cat.set_index('Category_id',inplace = True)"
   ]
  },
  {
   "cell_type": "code",
   "execution_count": null,
   "id": "63effb9b",
   "metadata": {},
   "outputs": [],
   "source": [
    "cat"
   ]
  },
  {
   "cell_type": "code",
   "execution_count": null,
   "id": "9445c11a",
   "metadata": {},
   "outputs": [],
   "source": [
    "dct=cat.to_dict()"
   ]
  },
  {
   "cell_type": "code",
   "execution_count": null,
   "id": "efe2b4da",
   "metadata": {},
   "outputs": [],
   "source": [
    "dct['Category_name']"
   ]
  },
  {
   "cell_type": "code",
   "execution_count": null,
   "id": "3fb77136",
   "metadata": {},
   "outputs": [],
   "source": [
    "full_df['category_name'] = full_df['category_id'].map(dct['Category_name'])"
   ]
  },
  {
   "cell_type": "code",
   "execution_count": null,
   "id": "a87eed34",
   "metadata": {},
   "outputs": [],
   "source": [
    "full_df.columns"
   ]
  },
  {
   "cell_type": "code",
   "execution_count": null,
   "id": "71e4e985",
   "metadata": {},
   "outputs": [],
   "source": [
    "full_df.head(4)"
   ]
  },
  {
   "cell_type": "code",
   "execution_count": null,
   "id": "9a5154b9",
   "metadata": {},
   "outputs": [],
   "source": [
    "plt.figure(figsize=(12,8))\n",
    "sns.boxplot(x='category_name',y='likes',data=full_df)\n",
    "plt.xticks(rotation='vertical')"
   ]
  },
  {
   "cell_type": "markdown",
   "id": "c7e1e6a2",
   "metadata": {},
   "source": [
    "### whether Audience is engaged or not"
   ]
  },
  {
   "cell_type": "code",
   "execution_count": null,
   "id": "4d54612d",
   "metadata": {},
   "outputs": [],
   "source": [
    "full_df.columns"
   ]
  },
  {
   "cell_type": "code",
   "execution_count": null,
   "id": "5647f931",
   "metadata": {},
   "outputs": [],
   "source": [
    "full_df['like_rate'] = (full_df['likes']/full_df['views'])*100\n",
    "full_df['dislike_rate'] = (full_df['dislikes']/full_df['views'])*100\n",
    "full_df['comment_count_rate'] = (full_df['comment_count']/full_df['views'])*100"
   ]
  },
  {
   "cell_type": "code",
   "execution_count": null,
   "id": "4849a69a",
   "metadata": {},
   "outputs": [],
   "source": [
    "full_df.head(3)"
   ]
  },
  {
   "cell_type": "code",
   "execution_count": null,
   "id": "4903124b",
   "metadata": {},
   "outputs": [],
   "source": [
    "sns.regplot(data= full_df,x='views',y='likes')"
   ]
  },
  {
   "cell_type": "code",
   "execution_count": null,
   "id": "9fa5fcde",
   "metadata": {},
   "outputs": [],
   "source": [
    "sns.heatmap(full_df[['views','likes','dislikes']].corr(),annot=True)"
   ]
  },
  {
   "cell_type": "markdown",
   "id": "1da72ce7",
   "metadata": {},
   "source": [
    "# which channel have largest number of trending videos"
   ]
  },
  {
   "cell_type": "code",
   "execution_count": null,
   "id": "86e8c5b2",
   "metadata": {},
   "outputs": [],
   "source": [
    "full_df.head(3)"
   ]
  },
  {
   "cell_type": "code",
   "execution_count": null,
   "id": "8311c11e",
   "metadata": {},
   "outputs": [],
   "source": [
    "cdf = full_df.groupby('channel_title')['video_id'].count().sort_values(ascending = False).to_frame().reset_index().rename(columns={'video_id':'total_videos'})"
   ]
  },
  {
   "cell_type": "code",
   "execution_count": null,
   "id": "85b5f32e",
   "metadata": {},
   "outputs": [],
   "source": [
    "import plotly.express as px"
   ]
  },
  {
   "cell_type": "code",
   "execution_count": null,
   "id": "49719590",
   "metadata": {},
   "outputs": [],
   "source": [
    "px.bar(data_frame = cdf[0:20],x='channel_title',y='total_videos')"
   ]
  },
  {
   "cell_type": "markdown",
   "id": "6c2fe142",
   "metadata": {},
   "source": [
    "# Does Punctuation in titles and tags have any relation with views ,likes, dislikes , comments?"
   ]
  },
  {
   "cell_type": "code",
   "execution_count": null,
   "id": "b97505c4",
   "metadata": {},
   "outputs": [],
   "source": [
    "import string"
   ]
  },
  {
   "cell_type": "code",
   "execution_count": null,
   "id": "71c1250d",
   "metadata": {},
   "outputs": [],
   "source": [
    "string.punctuation"
   ]
  },
  {
   "cell_type": "code",
   "execution_count": null,
   "id": "9c0e4766",
   "metadata": {},
   "outputs": [],
   "source": [
    "def punc_count(x):\n",
    "    return len([c for c in x if c in string.punctuation])"
   ]
  },
  {
   "cell_type": "code",
   "execution_count": null,
   "id": "742452ca",
   "metadata": {},
   "outputs": [],
   "source": [
    "full_df['title'][0]"
   ]
  },
  {
   "cell_type": "code",
   "execution_count": null,
   "id": "c3cf086a",
   "metadata": {},
   "outputs": [],
   "source": [
    "text = 'Eminem - Walk On Water (Audio) ft. BeyoncÃ©'"
   ]
  },
  {
   "cell_type": "code",
   "execution_count": null,
   "id": "0923ea48",
   "metadata": {},
   "outputs": [],
   "source": [
    "punc_count(text)"
   ]
  },
  {
   "cell_type": "code",
   "execution_count": null,
   "id": "212900af",
   "metadata": {},
   "outputs": [],
   "source": [
    "sample = full_df[0:10000]"
   ]
  },
  {
   "cell_type": "code",
   "execution_count": null,
   "id": "1323ed9a",
   "metadata": {},
   "outputs": [],
   "source": [
    "sample['count_punc'] = sample['title'].apply(punc_count)"
   ]
  },
  {
   "cell_type": "code",
   "execution_count": null,
   "id": "c4ec7a7c",
   "metadata": {},
   "outputs": [],
   "source": [
    "sample.head()"
   ]
  },
  {
   "cell_type": "code",
   "execution_count": null,
   "id": "f4d0edec",
   "metadata": {},
   "outputs": [],
   "source": [
    "plt.figure(figsize=(12,8))\n",
    "sns.boxplot(x='count_punc',y='views',data=sample)"
   ]
  },
  {
   "cell_type": "code",
   "execution_count": null,
   "id": "3af68d95",
   "metadata": {},
   "outputs": [],
   "source": [
    "sample['count_punc'].corr(sample['views'])"
   ]
  },
  {
   "cell_type": "code",
   "execution_count": null,
   "id": "6b7eb7dc",
   "metadata": {},
   "outputs": [],
   "source": []
  }
 ],
 "metadata": {
  "kernelspec": {
   "display_name": "Python 3",
   "language": "python",
   "name": "python3"
  },
  "language_info": {
   "codemirror_mode": {
    "name": "ipython",
    "version": 3
   },
   "file_extension": ".py",
   "mimetype": "text/x-python",
   "name": "python",
   "nbconvert_exporter": "python",
   "pygments_lexer": "ipython3",
   "version": "3.8.8"
  }
 },
 "nbformat": 4,
 "nbformat_minor": 5
}
